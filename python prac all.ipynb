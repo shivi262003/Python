{
 "cells": [
  {
   "cell_type": "code",
   "execution_count": 2,
   "id": "f5c3a112",
   "metadata": {},
   "outputs": [
    {
     "name": "stdout",
     "output_type": "stream",
     "text": [
      "Enter the year: 2003\n",
      "Enter the month: 12\n",
      "Enter the day: 12\n",
      "Enter the year: 2004\n",
      "Enter the month: 12\n",
      "Enter the day: 12\n",
      "Total number of days 366\n"
     ]
    }
   ],
   "source": [
    "#29\n",
    "from datetime import date\n",
    "a=int(input(\"Enter the year: \"))\n",
    "b=int(input(\"Enter the month: \"))\n",
    "c=int(input(\"Enter the day: \"))\n",
    "a1=int(input(\"Enter the year: \"))\n",
    "b1=int(input(\"Enter the month: \"))\n",
    "c1=int(input(\"Enter the day: \"))\n",
    "f_date=date(a,b,c)\n",
    "l_date=date(a1,b1,c1)\n",
    "nd=l_date-f_date\n",
    "print(\"Total number of days\",nd.days)"
   ]
  },
  {
   "cell_type": "code",
   "execution_count": 3,
   "id": "9b888f89",
   "metadata": {},
   "outputs": [
    {
     "name": "stdout",
     "output_type": "stream",
     "text": [
      "salary of the person: 15000\n",
      "HRA of basic salary: 4050.0000000000005\n",
      "DA of basic salary: 4200.0\n",
      "TAX to be deducted: 2250.0\n",
      "Total salary: 21000.0\n"
     ]
    }
   ],
   "source": [
    "#30\n",
    "a=int(input(\"salary of the person: \"))\n",
    "hra=0.27*a\n",
    "da=0.28*a\n",
    "tax=0.15*a\n",
    "ts=a+hra+da-tax\n",
    "print(\"HRA of basic salary:\",hra)\n",
    "print(\"DA of basic salary:\",da)\n",
    "print(\"TAX to be deducted:\",tax)\n",
    "print(\"Total salary:\",ts)"
   ]
  },
  {
   "cell_type": "code",
   "execution_count": 6,
   "id": "2ee8c005",
   "metadata": {},
   "outputs": [
    {
     "name": "stdout",
     "output_type": "stream",
     "text": [
      "Principle amount:21000\n",
      "rate of interest:2\n",
      "enter time:2\n",
      "840.0\n"
     ]
    }
   ],
   "source": [
    "#31\n",
    "def si(P,R,T):\n",
    "    P=int(input(\"Principle amount:\"))\n",
    "    R=int(input(\"rate of interest:\"))\n",
    "    T=int(input(\"enter time:\"))\n",
    "    s=(P*R*T/100)\n",
    "    print(s)\n",
    "P=20000\n",
    "R=2\n",
    "T=2\n",
    "si(P,R,T)"
   ]
  },
  {
   "cell_type": "code",
   "execution_count": 10,
   "id": "dcd43b03",
   "metadata": {},
   "outputs": [
    {
     "name": "stdout",
     "output_type": "stream",
     "text": [
      "the number is:  6\n",
      "factorial is: 720\n"
     ]
    }
   ],
   "source": [
    "#32\n",
    "def fac(a):\n",
    "    t=a\n",
    "    f=1\n",
    "    while a>0:\n",
    "        f=f*a\n",
    "        a=a-1\n",
    "    print(\"the number is: \",t)\n",
    "    print(\"factorial is:\",f)\n",
    "fac(6)"
   ]
  },
  {
   "cell_type": "code",
   "execution_count": 12,
   "id": "377d2c8c",
   "metadata": {},
   "outputs": [
    {
     "name": "stdout",
     "output_type": "stream",
     "text": [
      "Enter a number:5\n",
      "1 0 1 "
     ]
    }
   ],
   "source": [
    "#33\n",
    "a=int(input(\"Enter a number:\"))\n",
    "def bin(a):\n",
    "    if(a>1):\n",
    "        bin(a//2)\n",
    "    print(a%2,end=\" \")\n",
    "bin(a)"
   ]
  },
  {
   "cell_type": "code",
   "execution_count": 14,
   "id": "84d43656",
   "metadata": {},
   "outputs": [
    {
     "name": "stdout",
     "output_type": "stream",
     "text": [
      "1=mini,2=sedan,3=SUV\n",
      "Enter the varient of cab(1/2/3):3\n",
      "Enter the distance to travel in km:23\n"
     ]
    },
    {
     "ename": "NameError",
     "evalue": "name 'fare' is not defined",
     "output_type": "error",
     "traceback": [
      "\u001b[1;31m---------------------------------------------------------------------------\u001b[0m",
      "\u001b[1;31mNameError\u001b[0m                                 Traceback (most recent call last)",
      "\u001b[1;32m~\\AppData\\Local\\Temp/ipykernel_8960/3969811738.py\u001b[0m in \u001b[0;36m<module>\u001b[1;34m\u001b[0m\n\u001b[0;32m     12\u001b[0m     \u001b[1;32melse\u001b[0m\u001b[1;33m:\u001b[0m\u001b[1;33m\u001b[0m\u001b[1;33m\u001b[0m\u001b[0m\n\u001b[0;32m     13\u001b[0m         \u001b[0mprint\u001b[0m\u001b[1;33m(\u001b[0m\u001b[1;34m\"invalid input\"\u001b[0m\u001b[1;33m)\u001b[0m\u001b[1;33m\u001b[0m\u001b[1;33m\u001b[0m\u001b[0m\n\u001b[1;32m---> 14\u001b[1;33m \u001b[0mprint\u001b[0m\u001b[1;33m(\u001b[0m\u001b[1;34m\"cab varient is:\"\u001b[0m\u001b[1;33m,\u001b[0m\u001b[0mv\u001b[0m\u001b[1;33m,\u001b[0m\u001b[1;34m\"fare in rs\"\u001b[0m\u001b[1;33m,\u001b[0m\u001b[0mfare\u001b[0m\u001b[1;33m+\u001b[0m\u001b[0mfare\u001b[0m\u001b[1;33m*\u001b[0m\u001b[1;36m0.05\u001b[0m\u001b[1;33m)\u001b[0m\u001b[1;33m\u001b[0m\u001b[1;33m\u001b[0m\u001b[0m\n\u001b[0m\u001b[0;32m     15\u001b[0m \u001b[0mcabfare\u001b[0m\u001b[1;33m(\u001b[0m\u001b[1;33m)\u001b[0m\u001b[1;33m\u001b[0m\u001b[1;33m\u001b[0m\u001b[0m\n\u001b[0;32m     16\u001b[0m \u001b[1;33m\u001b[0m\u001b[0m\n",
      "\u001b[1;31mNameError\u001b[0m: name 'fare' is not defined"
     ]
    }
   ],
   "source": [
    "#34\n",
    "print(\"1=mini,2=sedan,3=SUV\")\n",
    "v=int(input(\"Enter the varient of cab(1/2/3):\"))\n",
    "d=int(input(\"Enter the distance to travel in km:\"))\n",
    "def cabfare():\n",
    "    if v==1:\n",
    "        fare = 30*d\n",
    "    elif v==2:\n",
    "        fare = 50*d\n",
    "    elif v==3:\n",
    "        fare = 70*d\n",
    "    else:\n",
    "        print(\"invalid input\")\n",
    "print(\"cab varient is:\",v,\"fare in rs\",fare+fare*0.05)\n",
    "cabfare()\n",
    "        "
   ]
  },
  {
   "cell_type": "code",
   "execution_count": null,
   "id": "56b25da2",
   "metadata": {},
   "outputs": [],
   "source": [
    "#35\n",
    "def calci():\n",
    "    a=int(input(\"Enter a number: \"))\n",
    "    b=int(input(\"Enter a number: \"))\n",
    "    operation = input(\"enter the operation to be performed +/-/*//\")\n",
    "    def oper():\n",
    "        if operation ==\"+\":\n",
    "            print(a,\"+\",b,\"=\",a+b)\n",
    "        elif operation ==\"-\":\n",
    "            print(a,\"-\",b,\"=\",a-b)\n",
    "        elif operation ==\"*\":\n",
    "            print(a,\"*\",b,\"=\",a*b)\n",
    "        elif operation ==\"/\":\n",
    "            print(a,\"/\",b,\"=\",a/b)\n",
    "        else:\n",
    "            print(\"Incorrect input\")\n",
    "    oper()\n",
    "calci()\n",
    "            "
   ]
  },
  {
   "cell_type": "code",
   "execution_count": null,
   "id": "0ae4d9b2",
   "metadata": {},
   "outputs": [],
   "source": [
    "#35\n",
    "def calci():\n",
    "    a=int(input(\"Enter a number: \"))\n",
    "    b=int(input(\"Enter a number: \"))\n",
    "    operation = input(\"enter the operation to be performed +/-/*//\")\n",
    "    def oper():\n",
    "        if operation ==\"+\":\n",
    "            print(a,\"+\",b,\"=\",a+b)\n",
    "        elif operation ==\"-\":\n",
    "            print(a,\"-\",b,\"=\",a-b)\n",
    "        elif operation ==\"*\":\n",
    "            print(a,\"*\",b,\"=\",a*b)\n",
    "        elif operation ==\"/\":\n",
    "            print(a,\"/\",b,\"=\",a/b)\n",
    "        else:\n",
    "            print(\"Incorrect input\")\n",
    "    oper()\n",
    "calci()"
   ]
  },
  {
   "cell_type": "code",
   "execution_count": 7,
   "id": "ed71714d",
   "metadata": {},
   "outputs": [
    {
     "name": "stdout",
     "output_type": "stream",
     "text": [
      "input radius of the circle as argument for this function\n",
      "Area of the circle with radius  6 cm is  113.09733552923255 square cm\n"
     ]
    }
   ],
   "source": [
    "print('input radius of the circle as argument for this function')\n",
    "def area_cir(r):\n",
    "    import numpy as np\n",
    "    area = (np.pi) * (r**2)\n",
    "    print('Area of the circle with radius ',r,'cm is ',area,'square cm')\n",
    "area_cir(6)\n"
   ]
  },
  {
   "cell_type": "code",
   "execution_count": 9,
   "id": "92bed170",
   "metadata": {},
   "outputs": [
    {
     "name": "stdout",
     "output_type": "stream",
     "text": [
      "input the base and height respectively as arguments of this function\n",
      "Area of triangle with base 5cm and height 6cm is 15.0square cm\n"
     ]
    }
   ],
   "source": [
    "print('input the base and height respectively as arguments of this function')\n",
    "def area_tri(b,h):\n",
    "    area = (1/2) *b*h\n",
    "    print('Area of triangle with base {}cm and height {}cm is {}square cm'.format(b,h,area))\n",
    "area_tri(5,6)\n"
   ]
  },
  {
   "cell_type": "code",
   "execution_count": 31,
   "id": "11fb9e09",
   "metadata": {},
   "outputs": [],
   "source": [
    "def recur_fac(n):\n",
    "    if n==1:\n",
    "        return n\n",
    "    else:\n",
    "        return n*recur_fac(n-1)\n",
    "    n = int(input('enter a number'))\n",
    "if n<0:\n",
    "        print('Sorry, factorial does not exist for negative numbers.')\n",
    "elif n==0 or n==1:\n",
    "            print('factorial for {} is 1'.format(n))else:\n",
    "        print('factorial of {} is'.format(n),recur_fac(n))\n"
   ]
  },
  {
   "cell_type": "code",
   "execution_count": 30,
   "id": "1060fe96",
   "metadata": {},
   "outputs": [
    {
     "name": "stdout",
     "output_type": "stream",
     "text": [
      "enter a number:876\n",
      "1 1 0 1 1 0 1 1 0 0 "
     ]
    }
   ],
   "source": [
    "a = int(input('enter a number:'))\n",
    "def bin(a):\n",
    "    if(a>1):\n",
    "        bin(a//2)\n",
    "    print(a%2,end = \" \")\n",
    "bin(a)\n"
   ]
  },
  {
   "cell_type": "code",
   "execution_count": 47,
   "id": "dfa64ca4",
   "metadata": {},
   "outputs": [
    {
     "name": "stdout",
     "output_type": "stream",
     "text": [
      "1= Mini,2= Sedan,3 = SUV\n",
      "enter the variant of cab(1/2/3): 3\n",
      "enter the distance to travel in kilometers: 21\n",
      "cab variant is:  3 fare is rupees  1543.5\n"
     ]
    }
   ],
   "source": [
    "print(\"1= Mini,2= Sedan,3 = SUV\")\n",
    "v = int(input('enter the variant of cab(1/2/3): '))\n",
    "d = int(input('enter the distance to travel in kilometers: '))\n",
    "def cabfare():\n",
    "    if v==1:\n",
    "        fare=30*d\n",
    "    elif v==2:\n",
    "        fare=50*d\n",
    "    elif v==3:\n",
    "        fare=70*d\n",
    "    else:\n",
    "        print(\"invalid input\")\n",
    "    print(\"cab variant is: \",v,\"fare is rupees \",fare+fare*0.05)\n",
    "cabfare()"
   ]
  },
  {
   "cell_type": "code",
   "execution_count": null,
   "id": "c037e6ee",
   "metadata": {},
   "outputs": [],
   "source": []
  },
  {
   "cell_type": "code",
   "execution_count": null,
   "id": "2c453f4a",
   "metadata": {},
   "outputs": [],
   "source": [
    "def calci():\n",
    "    a = int(input('enter the number'))\n",
    "    b = int(input('enter the number'))\n",
    "operation = input('enter the operation to be performed +/-/*//')\n",
    "def oper():\n",
    "    if operation ==\"+\":\n",
    "        print(a,\"+\",b,\"=\",a+b)\n",
    "    elif operation ==\"-\":\n",
    "print(a,\"-\",b,\"=\",a-b)\n",
    "elif operation ==\"*\":\n",
    "print(a,\"x\",\"=\",a*b)\n",
    "elif operation == \"/\":\n",
    "print(a,\"/\",\"=\",a/b)\n",
    "else:\n",
    "print('Incorrect input')\n",
    "n = input('To redo press y else press any other key: ')\n",
    "oper()\n",
    "calci()\n"
   ]
  },
  {
   "cell_type": "code",
   "execution_count": 1,
   "id": "050894e6",
   "metadata": {},
   "outputs": [
    {
     "name": "stdout",
     "output_type": "stream",
     "text": [
      "Shivani\n",
      "2003\n",
      "Name\n",
      "2126\n"
     ]
    }
   ],
   "source": [
    "s = [\"Shivani\",2003,\"Name\",2126]\n",
    "for i in s:\n",
    "    print(i)"
   ]
  },
  {
   "cell_type": "code",
   "execution_count": 3,
   "id": "e6bdc4ce",
   "metadata": {},
   "outputs": [
    {
     "name": "stdout",
     "output_type": "stream",
     "text": [
      "enter the elements of the list: shivani1234\n",
      "['s', 'h', 'i', 'v', 'a', 'n', 'i', '1', '2', '3', '4']\n"
     ]
    }
   ],
   "source": [
    "def listing():\n",
    "    list1 = list(input('enter the elements of the list: '))\n",
    "    print(list1)\n",
    "listing()\n"
   ]
  },
  {
   "cell_type": "code",
   "execution_count": 4,
   "id": "db65727b",
   "metadata": {},
   "outputs": [
    {
     "data": {
      "text/plain": [
       "['shivani', 26, 'Name', 'My', 'Family']"
      ]
     },
     "execution_count": 4,
     "metadata": {},
     "output_type": "execute_result"
    }
   ],
   "source": [
    "a = ['shivani',26,\"Name\"]\n",
    "b = [\"My\",\"Family\"]\n",
    "a+b\n"
   ]
  },
  {
   "cell_type": "code",
   "execution_count": 5,
   "id": "81f79d6c",
   "metadata": {},
   "outputs": [
    {
     "data": {
      "text/plain": [
       "['shivani', 26, 'Name', 'shivani', 26, 'Name']"
      ]
     },
     "execution_count": 5,
     "metadata": {},
     "output_type": "execute_result"
    }
   ],
   "source": [
    "a*2"
   ]
  },
  {
   "cell_type": "code",
   "execution_count": 8,
   "id": "d48ee0c5",
   "metadata": {},
   "outputs": [
    {
     "name": "stdout",
     "output_type": "stream",
     "text": [
      "student1\n",
      "student2\n",
      "Name : ayushi\n",
      "Age : 19\n",
      "Gender : Female\n"
     ]
    }
   ],
   "source": [
    "emp = {'student1':{'Name':'shivani','Age':19,'Gender':'Female'},\n",
    "'student2':{'Name':'ayushi','Age':19,'Gender':'Female'}}\n",
    "for a in emp:\n",
    "    print(a)\n",
    "for b in emp[a]:\n",
    "    print(b,':',emp[a][b])\n"
   ]
  },
  {
   "cell_type": "code",
   "execution_count": null,
   "id": "9238d5f6",
   "metadata": {},
   "outputs": [],
   "source": []
  }
 ],
 "metadata": {
  "kernelspec": {
   "display_name": "Python 3 (ipykernel)",
   "language": "python",
   "name": "python3"
  },
  "language_info": {
   "codemirror_mode": {
    "name": "ipython",
    "version": 3
   },
   "file_extension": ".py",
   "mimetype": "text/x-python",
   "name": "python",
   "nbconvert_exporter": "python",
   "pygments_lexer": "ipython3",
   "version": "3.9.7"
  }
 },
 "nbformat": 4,
 "nbformat_minor": 5
}
