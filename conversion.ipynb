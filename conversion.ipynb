{
 "cells": [
  {
   "cell_type": "code",
   "execution_count": null,
   "id": "2669cce0",
   "metadata": {},
   "outputs": [],
   "source": [
    "#date = 16-12-22\n",
    "# infix to postfix-postfix to infix\n",
    "# postfix to infix-infix to postfix\n",
    "# prefix to infix-infix to prefix\n",
    "# infix to prefix-prefix to infix"
   ]
  },
  {
   "cell_type": "code",
   "execution_count": null,
   "id": "a09c4a4a",
   "metadata": {},
   "outputs": [],
   "source": [
    "# Q1 infix to postfix\n",
    "\n",
    "Operators = set(['+', '-', '*', '/', '(', ')', '^'])  # collection of Operators\n",
    "Priority = {'+':1, '-':1, '*':2, '/':2, '^':3} # dictionary having priorities of Operators\n",
    "def infixToPostfix(expression): \n",
    "    stack = [] # initialization of empty stack\n",
    "    output = '' \n",
    "    for character in expression:\n",
    "        if character not in Operators:  # if an operand append in postfix expression\n",
    "            output+= character\n",
    "        elif character=='(':  # else Operators push onto stack\n",
    "            stack.append('(')\n",
    "        elif character==')':\n",
    "            while stack and stack[-1]!= '(':\n",
    "                output+=stack.pop()\n",
    "            stack.pop()\n",
    "        else: \n",
    "            while stack and stack[-1]!='(' and Priority[character]<=Priority[stack[-1]]:\n",
    "                output+=stack.pop()\n",
    "            stack.append(character)\n",
    "    while stack:\n",
    "        output+=stack.pop()\n",
    "    return output\n",
    "expression = input('Enter infix expression ')\n",
    "print('postfix notation: ',infixToPostfix(expression))\n",
    "s = infixToPostfix(expression)\n",
    "def post_to_in(entry):\n",
    "    changer =[]\n",
    "    for k in entry:\n",
    "        if k.isalpha():\n",
    "            changer.append(k)\n",
    "        elif k in ['+','-','*','/','^']:\n",
    "            b = changer.pop()\n",
    "            a = changer.pop()\n",
    "            add_str = '('+a+k+b+')'\n",
    "            changer.append(add_str)\n",
    "        print(changer)    \n",
    "    return changer.pop()\n",
    "entry = input(s)\n",
    "print('postfix notation: ',post_to_in(entry))"
   ]
  },
  {
   "cell_type": "code",
   "execution_count": null,
   "id": "91c4b4f1",
   "metadata": {},
   "outputs": [],
   "source": [
    "def post_to_in(entry):\n",
    "    changer = Stack()\n",
    "    for k in entry:\n",
    "        if k.isalpha():\n",
    "            changer.push(k)\n",
    "        elif k in ['+','-','*','/','^']:\n",
    "            b = changer.pop_()\n",
    "            a = changer.pop_()\n",
    "            add_str = '('+a+k+b+')'\n",
    "            changer.push(add_str)\n",
    "        changer.display()    \n",
    "    return changer.pop_()\n",
    "expression = input(s)\n",
    "print('postfix notation: ',post_to_in(entry))"
   ]
  },
  {
   "cell_type": "code",
   "execution_count": null,
   "id": "c8443c0e",
   "metadata": {},
   "outputs": [],
   "source": [
    "def post_to_in(entry):\n",
    "    changer =[]\n",
    "    for k in entry:\n",
    "        if k.isalpha():\n",
    "            changer.push(k)\n",
    "        elif k in ['+','-','*','/','^']:\n",
    "            b = changer.pop()\n",
    "            a = changer.pop()\n",
    "            add_str = '('+a+k+b+')'\n",
    "            changer.append(add_str)\n",
    "        print(changer)    \n",
    "    return changer.pop()\n",
    "entry = input()\n",
    "print('postfix notation: ',post_to_in(entry))"
   ]
  },
  {
   "cell_type": "code",
   "execution_count": null,
   "id": "d94fceff",
   "metadata": {},
   "outputs": [],
   "source": []
  }
 ],
 "metadata": {
  "kernelspec": {
   "display_name": "Python 3 (ipykernel)",
   "language": "python",
   "name": "python3"
  },
  "language_info": {
   "codemirror_mode": {
    "name": "ipython",
    "version": 3
   },
   "file_extension": ".py",
   "mimetype": "text/x-python",
   "name": "python",
   "nbconvert_exporter": "python",
   "pygments_lexer": "ipython3",
   "version": "3.9.7"
  }
 },
 "nbformat": 4,
 "nbformat_minor": 5
}
