{
 "cells": [
  {
   "cell_type": "code",
   "execution_count": 4,
   "id": "c40dfc61",
   "metadata": {},
   "outputs": [],
   "source": [
    "import pandas as pd\n",
    "import numpy as np"
   ]
  },
  {
   "cell_type": "code",
   "execution_count": 14,
   "id": "ff600a78",
   "metadata": {},
   "outputs": [],
   "source": [
    "# To read the data (csv) from a given path and load it in the pandas dataframe\n",
    "path = \"data/iris/iris.data\"\n",
    "names = ['x1','x2','x3','x4','y',]\n",
    "iris_data = pd.read_csv(path, names=names)"
   ]
  },
  {
   "cell_type": "code",
   "execution_count": 15,
   "id": "68459a90",
   "metadata": {},
   "outputs": [
    {
     "data": {
      "text/html": [
       "<div>\n",
       "<style scoped>\n",
       "    .dataframe tbody tr th:only-of-type {\n",
       "        vertical-align: middle;\n",
       "    }\n",
       "\n",
       "    .dataframe tbody tr th {\n",
       "        vertical-align: top;\n",
       "    }\n",
       "\n",
       "    .dataframe thead th {\n",
       "        text-align: right;\n",
       "    }\n",
       "</style>\n",
       "<table border=\"1\" class=\"dataframe\">\n",
       "  <thead>\n",
       "    <tr style=\"text-align: right;\">\n",
       "      <th></th>\n",
       "      <th>x1</th>\n",
       "      <th>x2</th>\n",
       "      <th>x3</th>\n",
       "      <th>x4</th>\n",
       "      <th>y</th>\n",
       "    </tr>\n",
       "  </thead>\n",
       "  <tbody>\n",
       "    <tr>\n",
       "      <th>0</th>\n",
       "      <td>5.1</td>\n",
       "      <td>3.5</td>\n",
       "      <td>1.4</td>\n",
       "      <td>0.2</td>\n",
       "      <td>Iris-setosa</td>\n",
       "    </tr>\n",
       "    <tr>\n",
       "      <th>1</th>\n",
       "      <td>4.9</td>\n",
       "      <td>3.0</td>\n",
       "      <td>1.4</td>\n",
       "      <td>0.2</td>\n",
       "      <td>Iris-setosa</td>\n",
       "    </tr>\n",
       "    <tr>\n",
       "      <th>2</th>\n",
       "      <td>4.7</td>\n",
       "      <td>3.2</td>\n",
       "      <td>1.3</td>\n",
       "      <td>0.2</td>\n",
       "      <td>Iris-setosa</td>\n",
       "    </tr>\n",
       "    <tr>\n",
       "      <th>3</th>\n",
       "      <td>4.6</td>\n",
       "      <td>3.1</td>\n",
       "      <td>1.5</td>\n",
       "      <td>0.2</td>\n",
       "      <td>Iris-setosa</td>\n",
       "    </tr>\n",
       "    <tr>\n",
       "      <th>4</th>\n",
       "      <td>5.0</td>\n",
       "      <td>3.6</td>\n",
       "      <td>1.4</td>\n",
       "      <td>0.2</td>\n",
       "      <td>Iris-setosa</td>\n",
       "    </tr>\n",
       "  </tbody>\n",
       "</table>\n",
       "</div>"
      ],
      "text/plain": [
       "    x1   x2   x3   x4            y\n",
       "0  5.1  3.5  1.4  0.2  Iris-setosa\n",
       "1  4.9  3.0  1.4  0.2  Iris-setosa\n",
       "2  4.7  3.2  1.3  0.2  Iris-setosa\n",
       "3  4.6  3.1  1.5  0.2  Iris-setosa\n",
       "4  5.0  3.6  1.4  0.2  Iris-setosa"
      ]
     },
     "execution_count": 15,
     "metadata": {},
     "output_type": "execute_result"
    }
   ],
   "source": [
    "iris_data.head()"
   ]
  },
  {
   "cell_type": "code",
   "execution_count": 16,
   "id": "2363d65f",
   "metadata": {},
   "outputs": [
    {
     "name": "stdout",
     "output_type": "stream",
     "text": [
      "<class 'pandas.core.frame.DataFrame'>\n",
      "RangeIndex: 150 entries, 0 to 149\n",
      "Data columns (total 5 columns):\n",
      " #   Column  Non-Null Count  Dtype  \n",
      "---  ------  --------------  -----  \n",
      " 0   x1      150 non-null    float64\n",
      " 1   x2      150 non-null    float64\n",
      " 2   x3      150 non-null    float64\n",
      " 3   x4      150 non-null    float64\n",
      " 4   y       150 non-null    object \n",
      "dtypes: float64(4), object(1)\n",
      "memory usage: 6.0+ KB\n"
     ]
    }
   ],
   "source": [
    "# to see informatiion related to the data.\n",
    "# such as number of datapoints present, what is the datatype, and more.....\n",
    "iris_data.info()"
   ]
  },
  {
   "cell_type": "code",
   "execution_count": 17,
   "id": "5a1d8b58",
   "metadata": {},
   "outputs": [
    {
     "data": {
      "text/plain": [
       "0      5.1\n",
       "1      4.9\n",
       "2      4.7\n",
       "3      4.6\n",
       "4      5.0\n",
       "      ... \n",
       "145    6.7\n",
       "146    6.3\n",
       "147    6.5\n",
       "148    6.2\n",
       "149    5.9\n",
       "Name: x1, Length: 150, dtype: float64"
      ]
     },
     "execution_count": 17,
     "metadata": {},
     "output_type": "execute_result"
    }
   ],
   "source": [
    "# To get a specific column\n",
    "iris_data['x1']"
   ]
  },
  {
   "cell_type": "code",
   "execution_count": 18,
   "id": "fc39ef16",
   "metadata": {},
   "outputs": [
    {
     "data": {
      "text/plain": [
       "{'Iris-setosa', 'Iris-versicolor', 'Iris-virginica'}"
      ]
     },
     "execution_count": 18,
     "metadata": {},
     "output_type": "execute_result"
    }
   ],
   "source": [
    "# To see the number of classes in the data. The class is saved in the last column\n",
    "set(iris_data['y'])"
   ]
  },
  {
   "cell_type": "code",
   "execution_count": 19,
   "id": "ac88270c",
   "metadata": {},
   "outputs": [
    {
     "data": {
      "text/plain": [
       "x1               6.3\n",
       "x2               3.3\n",
       "x3               6.0\n",
       "x4               2.5\n",
       "y     Iris-virginica\n",
       "Name: 100, dtype: object"
      ]
     },
     "execution_count": 19,
     "metadata": {},
     "output_type": "execute_result"
    }
   ],
   "source": [
    "# To get a specific row in a pandas dataframe\n",
    "iris_data.iloc[100]"
   ]
  },
  {
   "cell_type": "markdown",
   "id": "798839db",
   "metadata": {},
   "source": [
    "# Exercise: to save the input in an numpy array"
   ]
  },
  {
   "cell_type": "code",
   "execution_count": 21,
   "id": "3cc5883f",
   "metadata": {},
   "outputs": [
    {
     "data": {
      "text/plain": [
       "{'Iris-virginica': 1, 'Iris-versicolor': 2, 'Iris-setosa': 3}"
      ]
     },
     "execution_count": 21,
     "metadata": {},
     "output_type": "execute_result"
    }
   ],
   "source": [
    "# To map the classes name to numbers.\n",
    "mapping = {}\n",
    "class_index = 1\n",
    "for class_ in set(iris_data['y']):\n",
    "    mapping[class_] = class_index\n",
    "    class_index += 1\n",
    "mapping"
   ]
  },
  {
   "cell_type": "code",
   "execution_count": 22,
   "id": "1fb29683",
   "metadata": {},
   "outputs": [],
   "source": [
    "# Converting the input/features and output/targets to numpy array\n",
    "np_iris_data = np.zeros((150,4)) # Only the features\n",
    "y = [] # Only the class label\n",
    "for i in range(len(iris_data)):\n",
    "    np_iris_data[i] = iris_data.iloc[i][:4]\n",
    "    y.append(mapping[iris_data.iloc[i][-1]])"
   ]
  },
  {
   "cell_type": "markdown",
   "id": "d2b0ff54",
   "metadata": {},
   "source": [
    "# Question: can we plot the data? "
   ]
  },
  {
   "cell_type": "markdown",
   "id": "6ffe9b8a",
   "metadata": {},
   "source": [
    "# Train the KNN classifier learnt in the class on this data and report the accuracy"
   ]
  }
 ],
 "metadata": {
  "kernelspec": {
   "display_name": "Python 3 (ipykernel)",
   "language": "python",
   "name": "python3"
  },
  "language_info": {
   "codemirror_mode": {
    "name": "ipython",
    "version": 3
   },
   "file_extension": ".py",
   "mimetype": "text/x-python",
   "name": "python",
   "nbconvert_exporter": "python",
   "pygments_lexer": "ipython3",
   "version": "3.8.13"
  }
 },
 "nbformat": 4,
 "nbformat_minor": 5
}
