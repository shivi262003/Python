{
 "cells": [
  {
   "cell_type": "code",
   "execution_count": 2,
   "id": "a19dba67",
   "metadata": {},
   "outputs": [
    {
     "name": "stdout",
     "output_type": "stream",
     "text": [
      "6\n",
      "Even\n"
     ]
    }
   ],
   "source": [
    "a = int(input())\n",
    "if a%2==0:\n",
    "    print(\"Even\")\n",
    "else:\n",
    "    print(\"Odd\")"
   ]
  },
  {
   "cell_type": "code",
   "execution_count": 9,
   "id": "ff85d2ff",
   "metadata": {},
   "outputs": [
    {
     "name": "stdout",
     "output_type": "stream",
     "text": [
      "43\n",
      "other\n"
     ]
    }
   ],
   "source": [
    "a = int(input())\n",
    "if a%5==0:\n",
    "    if a%10==0:\n",
    "        print(\"0\")\n",
    "    else:\n",
    "        print(\"5\")\n",
    "else:\n",
    "    print(\"other\")\n"
   ]
  },
  {
   "cell_type": "code",
   "execution_count": 6,
   "id": "49123063",
   "metadata": {},
   "outputs": [
    {
     "name": "stdout",
     "output_type": "stream",
     "text": [
      "76\n",
      "C\n"
     ]
    }
   ],
   "source": [
    "a = int(input())\n",
    "if (a>=0 and a<=100):\n",
    "    if a>=90:\n",
    "        print(\"A\")\n",
    "    if (a<90 and a>=80):\n",
    "        print(\"B\")\n",
    "    if (a<80 and a>=70):\n",
    "        print(\"C\")\n",
    "    if (a<70 and a>=60):\n",
    "        print(\"D\")\n",
    "    if a<60:\n",
    "        print(\"E\")\n",
    "else:\n",
    "    print(\"Invalid Output\")"
   ]
  },
  {
   "cell_type": "code",
   "execution_count": 7,
   "id": "36490092",
   "metadata": {},
   "outputs": [
    {
     "name": "stdout",
     "output_type": "stream",
     "text": [
      "5\n",
      "120\n"
     ]
    }
   ],
   "source": [
    "a = int(input())\n",
    "\n",
    "i=1\n",
    "ans=1\n",
    "while (i<=a):\n",
    "    ans=ans*i\n",
    "    i=i+1\n",
    "print(ans)\n",
    "    "
   ]
  },
  {
   "cell_type": "code",
   "execution_count": 7,
   "id": "f9d949b7",
   "metadata": {},
   "outputs": [
    {
     "name": "stdout",
     "output_type": "stream",
     "text": [
      "56\n",
      "binary 111000\n"
     ]
    }
   ],
   "source": [
    "a = int(input())\n",
    "print(\"binary\",bin(a)[2:])"
   ]
  },
  {
   "cell_type": "code",
   "execution_count": null,
   "id": "0cbc6ed6",
   "metadata": {},
   "outputs": [],
   "source": []
  },
  {
   "cell_type": "code",
   "execution_count": null,
   "id": "85bdcf21",
   "metadata": {},
   "outputs": [],
   "source": []
  }
 ],
 "metadata": {
  "kernelspec": {
   "display_name": "Python 3 (ipykernel)",
   "language": "python",
   "name": "python3"
  },
  "language_info": {
   "codemirror_mode": {
    "name": "ipython",
    "version": 3
   },
   "file_extension": ".py",
   "mimetype": "text/x-python",
   "name": "python",
   "nbconvert_exporter": "python",
   "pygments_lexer": "ipython3",
   "version": "3.9.7"
  }
 },
 "nbformat": 4,
 "nbformat_minor": 5
}
