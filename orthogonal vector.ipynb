{
 "cells": [
  {
   "cell_type": "code",
   "execution_count": 1,
   "id": "3fe56910",
   "metadata": {},
   "outputs": [
    {
     "data": {
      "text/plain": [
       "matrix([[ 1,  1,  1],\n",
       "        [-1,  0,  1],\n",
       "        [ 1,  1,  2]])"
      ]
     },
     "execution_count": 1,
     "metadata": {},
     "output_type": "execute_result"
    }
   ],
   "source": [
    "# this is program to calculate the orthogonal vectors from given basis vector\n",
    "import numpy as np\n",
    "V = np.matrix([[1,1,1],[-1,0,1],[1,1,2]])\n",
    "V"
   ]
  },
  {
   "cell_type": "code",
   "execution_count": 2,
   "id": "cdcbed05",
   "metadata": {},
   "outputs": [
    {
     "data": {
      "text/plain": [
       "matrix([[ 1],\n",
       "        [-1],\n",
       "        [ 1]])"
      ]
     },
     "execution_count": 2,
     "metadata": {},
     "output_type": "execute_result"
    }
   ],
   "source": [
    "a1 = V[:,0]\n",
    "a1"
   ]
  },
  {
   "cell_type": "code",
   "execution_count": 3,
   "id": "d51b0098",
   "metadata": {},
   "outputs": [
    {
     "data": {
      "text/plain": [
       "matrix([[ 1],\n",
       "        [-1],\n",
       "        [ 1]])"
      ]
     },
     "execution_count": 3,
     "metadata": {},
     "output_type": "execute_result"
    }
   ],
   "source": [
    "u1 = a1\n",
    "u1"
   ]
  },
  {
   "cell_type": "code",
   "execution_count": 6,
   "id": "850c9c82",
   "metadata": {},
   "outputs": [
    {
     "data": {
      "text/plain": [
       "matrix([[1],\n",
       "        [0],\n",
       "        [1]])"
      ]
     },
     "execution_count": 6,
     "metadata": {},
     "output_type": "execute_result"
    }
   ],
   "source": [
    "a2 = V[:,1]\n",
    "a2"
   ]
  },
  {
   "cell_type": "code",
   "execution_count": 5,
   "id": "296f7296",
   "metadata": {},
   "outputs": [
    {
     "data": {
      "text/plain": [
       "matrix([[1],\n",
       "        [0],\n",
       "        [1]])"
      ]
     },
     "execution_count": 5,
     "metadata": {},
     "output_type": "execute_result"
    }
   ],
   "source": [
    "V2=a2\n",
    "V2"
   ]
  },
  {
   "cell_type": "code",
   "execution_count": 8,
   "id": "6710b6ae",
   "metadata": {},
   "outputs": [
    {
     "data": {
      "text/plain": [
       "2.0"
      ]
     },
     "execution_count": 8,
     "metadata": {},
     "output_type": "execute_result"
    }
   ],
   "source": [
    "v2u1dot = np.linalg.norm(np.transpose(u1)@V2)\n",
    "v2u1dot"
   ]
  },
  {
   "cell_type": "code",
   "execution_count": 9,
   "id": "baf56c6a",
   "metadata": {},
   "outputs": [
    {
     "data": {
      "text/plain": [
       "1.7320508075688772"
      ]
     },
     "execution_count": 9,
     "metadata": {},
     "output_type": "execute_result"
    }
   ],
   "source": [
    "u1mag = np.linalg.norm(u1)\n",
    "u1mag"
   ]
  },
  {
   "cell_type": "code",
   "execution_count": 10,
   "id": "0440e55d",
   "metadata": {},
   "outputs": [
    {
     "data": {
      "text/plain": [
       "matrix([[0.33333333],\n",
       "        [0.66666667],\n",
       "        [0.33333333]])"
      ]
     },
     "execution_count": 10,
     "metadata": {},
     "output_type": "execute_result"
    }
   ],
   "source": [
    "u2 = V2 - (v2u1dot/((u1mag)**2))*u1\n",
    "u2"
   ]
  },
  {
   "cell_type": "code",
   "execution_count": 14,
   "id": "554549f2",
   "metadata": {},
   "outputs": [
    {
     "data": {
      "text/plain": [
       "matrix([[1],\n",
       "        [1],\n",
       "        [2]])"
      ]
     },
     "execution_count": 14,
     "metadata": {},
     "output_type": "execute_result"
    }
   ],
   "source": [
    "V3 = V[:,2]\n",
    "V3"
   ]
  },
  {
   "cell_type": "code",
   "execution_count": 15,
   "id": "2109c5b2",
   "metadata": {},
   "outputs": [
    {
     "data": {
      "text/plain": [
       "2.0"
      ]
     },
     "execution_count": 15,
     "metadata": {},
     "output_type": "execute_result"
    }
   ],
   "source": [
    "v3u1dot = np.linalg.norm(np.transpose(u1)@V3)\n",
    "v3u1dot"
   ]
  },
  {
   "cell_type": "code",
   "execution_count": 17,
   "id": "29f9c79e",
   "metadata": {},
   "outputs": [
    {
     "data": {
      "text/plain": [
       "0.816496580927726"
      ]
     },
     "execution_count": 17,
     "metadata": {},
     "output_type": "execute_result"
    }
   ],
   "source": [
    "u2mag = np.linalg.norm(u2)\n",
    "u2mag"
   ]
  },
  {
   "cell_type": "code",
   "execution_count": 26,
   "id": "2c380038",
   "metadata": {},
   "outputs": [
    {
     "data": {
      "text/plain": [
       "1.6666666666666665"
      ]
     },
     "execution_count": 26,
     "metadata": {},
     "output_type": "execute_result"
    }
   ],
   "source": [
    "v3u2dot = np.linalg.norm(np.transpose(u2)@V3)\n",
    "v3u2dot"
   ]
  },
  {
   "cell_type": "code",
   "execution_count": 20,
   "id": "5f4f1b07",
   "metadata": {},
   "outputs": [
    {
     "data": {
      "text/plain": [
       "matrix([[-5.00000000e-01],\n",
       "        [-2.22044605e-16],\n",
       "        [ 5.00000000e-01]])"
      ]
     },
     "execution_count": 20,
     "metadata": {},
     "output_type": "execute_result"
    }
   ],
   "source": [
    "u3 = V3 - (v3u1dot/((u1mag)**2))*u1 - (v3u2dot/((u2mag)**2))*u2\n",
    "u3"
   ]
  },
  {
   "cell_type": "code",
   "execution_count": 21,
   "id": "f9354a9f",
   "metadata": {},
   "outputs": [
    {
     "data": {
      "text/plain": [
       "4.440892098500626e-16"
      ]
     },
     "execution_count": 21,
     "metadata": {},
     "output_type": "execute_result"
    }
   ],
   "source": [
    "u1u3dot = np.linalg.norm(np.transpose(u1)@u3)\n",
    "u1u3dot"
   ]
  },
  {
   "cell_type": "code",
   "execution_count": 27,
   "id": "9b36cfb0",
   "metadata": {},
   "outputs": [
    {
     "name": "stdout",
     "output_type": "stream",
     "text": [
      "[[ 1]\n",
      " [-1]\n",
      " [ 1]]\n",
      "[[0.33333333]\n",
      " [0.66666667]\n",
      " [0.33333333]]\n",
      "[[-5.00000000e-01]\n",
      " [-2.22044605e-16]\n",
      " [ 5.00000000e-01]]\n"
     ]
    }
   ],
   "source": [
    "#normalize individual u1,u2,u3\n",
    "#check the organility between u1,u2,u3\n",
    "#finally make it orthonormal\n",
    "print(u1)\n",
    "print(u2)\n",
    "print(u3)"
   ]
  },
  {
   "cell_type": "code",
   "execution_count": 28,
   "id": "5ea8c560",
   "metadata": {},
   "outputs": [
    {
     "data": {
      "text/plain": [
       "2.220446049250313e-16"
      ]
     },
     "execution_count": 28,
     "metadata": {},
     "output_type": "execute_result"
    }
   ],
   "source": [
    "u1u2dot = np.linalg.norm(np.transpose(u1)@u2)\n",
    "u1u2dot"
   ]
  },
  {
   "cell_type": "code",
   "execution_count": 29,
   "id": "99c591c4",
   "metadata": {},
   "outputs": [
    {
     "data": {
      "text/plain": [
       "4.440892098500626e-16"
      ]
     },
     "execution_count": 29,
     "metadata": {},
     "output_type": "execute_result"
    }
   ],
   "source": [
    "u1u3dot = np.linalg.norm(np.transpose(u1)@u3)\n",
    "u1u3dot"
   ]
  },
  {
   "cell_type": "code",
   "execution_count": 30,
   "id": "3d1f3223",
   "metadata": {},
   "outputs": [
    {
     "data": {
      "text/plain": [
       "9.251858538542973e-17"
      ]
     },
     "execution_count": 30,
     "metadata": {},
     "output_type": "execute_result"
    }
   ],
   "source": [
    "u2u3dot = np.linalg.norm(np.transpose(u2)@u3)\n",
    "u2u3dot"
   ]
  },
  {
   "cell_type": "code",
   "execution_count": 31,
   "id": "df141f0d",
   "metadata": {},
   "outputs": [
    {
     "data": {
      "text/plain": [
       "1.7320508075688772"
      ]
     },
     "execution_count": 31,
     "metadata": {},
     "output_type": "execute_result"
    }
   ],
   "source": [
    "u1mag"
   ]
  },
  {
   "cell_type": "code",
   "execution_count": 32,
   "id": "86dc66e3",
   "metadata": {},
   "outputs": [
    {
     "data": {
      "text/plain": [
       "0.816496580927726"
      ]
     },
     "execution_count": 32,
     "metadata": {},
     "output_type": "execute_result"
    }
   ],
   "source": [
    "u2mag"
   ]
  },
  {
   "cell_type": "code",
   "execution_count": 33,
   "id": "bd3b1ad1",
   "metadata": {},
   "outputs": [
    {
     "data": {
      "text/plain": [
       "0.7071067811865476"
      ]
     },
     "execution_count": 33,
     "metadata": {},
     "output_type": "execute_result"
    }
   ],
   "source": [
    "u3mag = np.linalg.norm(u3)\n",
    "u3mag"
   ]
  },
  {
   "cell_type": "code",
   "execution_count": 34,
   "id": "6b741aa8",
   "metadata": {},
   "outputs": [
    {
     "data": {
      "text/plain": [
       "matrix([[ 0.57735027],\n",
       "        [-0.57735027],\n",
       "        [ 0.57735027]])"
      ]
     },
     "execution_count": 34,
     "metadata": {},
     "output_type": "execute_result"
    }
   ],
   "source": [
    "u1_cap = (1/u1mag)*u1\n",
    "u1_cap"
   ]
  },
  {
   "cell_type": "code",
   "execution_count": 35,
   "id": "f0e1eaa2",
   "metadata": {},
   "outputs": [
    {
     "data": {
      "text/plain": [
       "matrix([[0.19245009],\n",
       "        [0.38490018],\n",
       "        [0.19245009]])"
      ]
     },
     "execution_count": 35,
     "metadata": {},
     "output_type": "execute_result"
    }
   ],
   "source": [
    "u2_cap = (1/u1mag)*u2\n",
    "u2_cap"
   ]
  },
  {
   "cell_type": "code",
   "execution_count": 36,
   "id": "c7a8e719",
   "metadata": {},
   "outputs": [
    {
     "data": {
      "text/plain": [
       "matrix([[-2.88675135e-01],\n",
       "        [-1.28197512e-16],\n",
       "        [ 2.88675135e-01]])"
      ]
     },
     "execution_count": 36,
     "metadata": {},
     "output_type": "execute_result"
    }
   ],
   "source": [
    "u3_cap = (1/u1mag)*u3\n",
    "u3_cap"
   ]
  },
  {
   "cell_type": "code",
   "execution_count": null,
   "id": "e0f7e35a",
   "metadata": {},
   "outputs": [],
   "source": [
    "#assingment\n"
   ]
  }
 ],
 "metadata": {
  "kernelspec": {
   "display_name": "Python 3 (ipykernel)",
   "language": "python",
   "name": "python3"
  },
  "language_info": {
   "codemirror_mode": {
    "name": "ipython",
    "version": 3
   },
   "file_extension": ".py",
   "mimetype": "text/x-python",
   "name": "python",
   "nbconvert_exporter": "python",
   "pygments_lexer": "ipython3",
   "version": "3.9.7"
  }
 },
 "nbformat": 4,
 "nbformat_minor": 5
}
