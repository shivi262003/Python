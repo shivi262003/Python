{
 "cells": [
  {
   "cell_type": "markdown",
   "id": "7b39e143",
   "metadata": {},
   "source": [
    "# Creating the dataset"
   ]
  },
  {
   "cell_type": "code",
   "execution_count": null,
   "id": "11ce06d9",
   "metadata": {},
   "outputs": [],
   "source": [
    "# Generate random datapoints using numpy\n",
    "\n",
    "\n",
    "'''\n",
    "import random \n",
    "\n",
    "first = []\n",
    "for i in range(100):\n",
    "    first.append([random.uniform(2,4),random.uniform(2,4)])\n",
    "\n",
    "third = []\n",
    "for i in range(100):\n",
    "    third.append([random.uniform(0,2),random.uniform(0,2)])\n",
    "    \n",
    "'''\n",
    "\n",
    "import matplotlib.pyplot as plt\n",
    "plt.scatter([i[0] for i in first],[i[1] for i in first])\n",
    "plt.scatter([i[0] for i in third],[i[1] for i in third])"
   ]
  },
  {
   "cell_type": "markdown",
   "id": "53e66b6c",
   "metadata": {},
   "source": [
    "# Creating the cluster centers"
   ]
  },
  {
   "cell_type": "code",
   "execution_count": null,
   "id": "fc9ae9c3",
   "metadata": {},
   "outputs": [],
   "source": [
    "# Take the mean of the dataset using numpy\n",
    "\n",
    "'''\n",
    "x_1, y_1 = 0, 0\n",
    "for i in first: \n",
    "    x_1 += i[0]\n",
    "    y_1 += i[1]\n",
    "\n",
    "x_1 = x_1/len(first)\n",
    "y_1 = y_1/len(first)\n",
    "\n",
    "\n",
    "x_2, y_2 = 0, 0\n",
    "for i in third: \n",
    "    x_2 += i[0]\n",
    "    y_2 += i[1]\n",
    "\n",
    "x_2 = x_2/len(third)\n",
    "y_2 = y_2/len(third)\n",
    "'''"
   ]
  },
  {
   "cell_type": "markdown",
   "id": "a4b0e2a8",
   "metadata": {},
   "source": [
    "# Ploting the dataset and their cluster centres"
   ]
  },
  {
   "cell_type": "code",
   "execution_count": null,
   "id": "6833a05e",
   "metadata": {},
   "outputs": [],
   "source": [
    "plt.scatter([i[0] for i in first],[i[1] for i in first])\n",
    "plt.scatter([i[0] for i in third],[i[1] for i in third])\n",
    "plt.scatter(x_1,y_1, color=\"r\")\n",
    "plt.scatter(x_2,y_2, color=\"k\")"
   ]
  },
  {
   "cell_type": "markdown",
   "id": "1506065f",
   "metadata": {},
   "source": [
    "# Defining the test/prediction rule"
   ]
  },
  {
   "cell_type": "code",
   "execution_count": null,
   "id": "8a9f39f4",
   "metadata": {},
   "outputs": [],
   "source": [
    "def test(x,y):\n",
    "    # Calcualte teh euclidena distance using numpy\n",
    "    '''\n",
    "    dist1 = ((x_1-x)**2 + (y_1-y)**2)**0.5\n",
    "    dist2 = ((x_2-x)**2 + (y_2-y)**2)**0.5\n",
    "    '''\n",
    "    \n",
    "    return dist1, dist2\n",
    "x,y = 2.7,2.7\n",
    "dist1, dist2 = test(x,y)"
   ]
  },
  {
   "cell_type": "markdown",
   "id": "24d99185",
   "metadata": {},
   "source": [
    "# Ploting the dataset and their cluster centres and the test point also"
   ]
  },
  {
   "cell_type": "code",
   "execution_count": null,
   "id": "219fec2c",
   "metadata": {},
   "outputs": [],
   "source": [
    "plt.scatter([i[0] for i in first],[i[1] for i in first])\n",
    "plt.scatter([i[0] for i in third],[i[1] for i in third])\n",
    "plt.scatter(x_1,y_1, color=\"r\")\n",
    "plt.scatter(x_2,y_2, color=\"k\")\n",
    "plt.scatter(x,y)"
   ]
  },
  {
   "cell_type": "markdown",
   "id": "9d78080d",
   "metadata": {},
   "source": [
    "# Assigning the cluster number based on the distance"
   ]
  },
  {
   "cell_type": "code",
   "execution_count": null,
   "id": "0eb8faa1",
   "metadata": {},
   "outputs": [],
   "source": [
    "if dist1<=dist2: \n",
    "    print(f\"{x,y} belongs to cluster 1\")\n",
    "else: print(f\"{x,y} belongs to cluster 2\")"
   ]
  },
  {
   "cell_type": "markdown",
   "id": "675a9a1e",
   "metadata": {},
   "source": [
    "# Made by Hemant yadav (raotnameh@gmail.com)"
   ]
  }
 ],
 "metadata": {
  "kernelspec": {
   "display_name": "Python 3 (ipykernel)",
   "language": "python",
   "name": "python3"
  },
  "language_info": {
   "codemirror_mode": {
    "name": "ipython",
    "version": 3
   },
   "file_extension": ".py",
   "mimetype": "text/x-python",
   "name": "python",
   "nbconvert_exporter": "python",
   "pygments_lexer": "ipython3",
   "version": "3.9.7"
  }
 },
 "nbformat": 4,
 "nbformat_minor": 5
}
